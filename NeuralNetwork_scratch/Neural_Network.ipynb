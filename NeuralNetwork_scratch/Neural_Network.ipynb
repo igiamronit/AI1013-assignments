{
  "cells": [
    {
      "cell_type": "markdown",
      "source": [
        "### Importing the necessary libraries\n",
        "1. gdown for downloading the dataset directly from drive.\n",
        "2. sklearn.model_selection for splitting the data.\n",
        "3. scipy for calculating mode."
      ],
      "metadata": {
        "id": "cbpqxolL-XI4"
      }
    },
    {
      "cell_type": "code",
      "execution_count": 1,
      "metadata": {
        "id": "neiOX7NURJWl"
      },
      "outputs": [],
      "source": [
        "import numpy as np\n",
        "import pandas as pd\n",
        "import gdown\n",
        "import matplotlib.pyplot as plt\n",
        "from sklearn.model_selection import train_test_split\n",
        "from scipy import stats"
      ]
    },
    {
      "cell_type": "markdown",
      "source": [
        "## Q1: Training an Artificial Neural Network"
      ],
      "metadata": {
        "id": "oiTqMsLKpuQa"
      }
    },
    {
      "cell_type": "code",
      "execution_count": 2,
      "metadata": {
        "colab": {
          "base_uri": "https://localhost:8080/"
        },
        "id": "rJXs_C7mRRWN",
        "outputId": "8d8286a3-b450-49b1-f3f0-0b3259034c17"
      },
      "outputs": [
        {
          "output_type": "stream",
          "name": "stderr",
          "text": [
            "Downloading...\n",
            "From: https://drive.google.com/uc?id=15AADwQUAu0yzpQhQnbCuEpfxNw__w6Mx\n",
            "To: /content/df_data_q1.csv\n",
            "100%|██████████| 8.47k/8.47k [00:00<00:00, 12.1MB/s]\n"
          ]
        }
      ],
      "source": [
        "data_q1_id = \"15AADwQUAu0yzpQhQnbCuEpfxNw__w6Mx\"\n",
        "data_q1_url = f\"https://drive.google.com/uc?id={data_q1_id}\"\n",
        "\n",
        "gdown.download(data_q1_url, \"df_data_q1.csv\", quiet=False)\n",
        "\n",
        "df_data_q1 = pd.read_csv(\"df_data_q1.csv\")"
      ]
    },
    {
      "cell_type": "markdown",
      "source": [
        "### Dataset Preparation"
      ],
      "metadata": {
        "id": "7NzwbqAU-qze"
      }
    },
    {
      "cell_type": "code",
      "execution_count": 3,
      "metadata": {
        "id": "xNfzKctcTk4d"
      },
      "outputs": [],
      "source": [
        "training_x1 = df_data_q1[\"x1\"].to_numpy()\n",
        "training_x2 = df_data_q1[\"x2\"].to_numpy()\n",
        "training_y = df_data_q1[\"y\"].to_numpy()\n",
        "\n",
        "N = len(training_x1)\n",
        "\n",
        "training_x = np.array([[x1,x2,1] for x1,x2 in zip(training_x1,training_x2)])"
      ]
    },
    {
      "cell_type": "markdown",
      "source": [
        "* Setting seed\n",
        "* Defining ```sigmoid``` and ```grad_sigmoid``` function.\n"
      ],
      "metadata": {
        "id": "av8_o5DO-1wA"
      }
    },
    {
      "cell_type": "code",
      "execution_count": 4,
      "metadata": {
        "id": "LZ87zeV4YQoR"
      },
      "outputs": [],
      "source": [
        "np.random.seed(123)\n",
        "\n",
        "def sigmoid(x):\n",
        "  return 1 / (1 + np.exp(-x)) #sigmoid\n",
        "\n",
        "def grad_sigmoid(x):\n",
        "  return ((sigmoid(x))*(1-sigmoid(x))) #derivative of sigmoid"
      ]
    },
    {
      "cell_type": "markdown",
      "source": [
        "* Initalizing $w_1$ and $w_2$ randomly with appropriate dimensions."
      ],
      "metadata": {
        "id": "fz2aOgpW_Ima"
      }
    },
    {
      "cell_type": "code",
      "execution_count": 5,
      "metadata": {
        "colab": {
          "base_uri": "https://localhost:8080/"
        },
        "id": "m7SQ-RUBb2bs",
        "outputId": "10a09725-25dc-41c5-8a91-18831f08d442"
      },
      "outputs": [
        {
          "output_type": "execute_result",
          "data": {
            "text/plain": [
              "array([[ 0.39293837, -0.42772133, -0.54629709],\n",
              "       [ 0.10262954,  0.43893794, -0.15378708],\n",
              "       [ 0.9615284 ,  0.36965948, -0.0381362 ]])"
            ]
          },
          "metadata": {},
          "execution_count": 5
        }
      ],
      "source": [
        "w1 = np.random.uniform(-1, 1, (3,3))\n",
        "w2 = np.random.uniform(-1, 1, (4,1))\n",
        "\n",
        "learning_rate, max_epochs = 0.05, 100 #constants\n",
        "w1"
      ]
    },
    {
      "cell_type": "markdown",
      "source": [
        "* Setting ```X``` = ```training_x``` .\n",
        "* Defining function ```append_ones``` which takes a matrix as input and append 1 in the last column.\n",
        "* Defining function training_neural_networks:\n",
        "  1. Takes ```X```, training output, weights, learning rate and max epochs as parameters.\n",
        "  2. Does the necessary calculations (calculations regrading gradient of loss with respect to w1 and w2 is in the pdf 'AI1013_calculations.pdf').\n",
        "  3. At each epoch it appends the training loss in an array ```training_error```.\n",
        "  4. Function returns the training array as output.\n",
        "\n",
        "* Plotting training loss over epochs: Loss decreases consistently till 100 epochs.\n"
      ],
      "metadata": {
        "id": "ng7j3Pxo_Yae"
      }
    },
    {
      "cell_type": "code",
      "execution_count": 6,
      "metadata": {
        "colab": {
          "base_uri": "https://localhost:8080/",
          "height": 472
        },
        "id": "UyDcduDeer8F",
        "outputId": "0613d85f-08b8-4cba-b0d9-59daeed0db76"
      },
      "outputs": [
        {
          "output_type": "display_data",
          "data": {
            "text/plain": [
              "<Figure size 640x480 with 1 Axes>"
            ],
            "image/png": "[encoded data removed]"
          },
          "metadata": {}
        }
      ],
      "source": [
        "X = training_x\n",
        "\n",
        "def append_ones(matrix):\n",
        "    ones_column = np.ones((matrix.shape[0], 1))\n",
        "    return np.concatenate((matrix, ones_column), axis=1)\n",
        "\n",
        "def training_neuralnetwork(X, training_y, w1, w2, learning_rate, max_epochs):\n",
        "  training_error = []\n",
        "\n",
        "  for epoch in range(max_epochs):\n",
        "    # Forward propagation\n",
        "    H = X @ w1\n",
        "    Z = sigmoid(H)\n",
        "    Z = append_ones(Z)\n",
        "    O = Z @ w2\n",
        "    y_predicted = sigmoid(O)\n",
        "\n",
        "    # Calculate loss\n",
        "    y_predicted = y_predicted.reshape(-1,1)\n",
        "    training_y = training_y.reshape(-1,1)\n",
        "    y = y_predicted - training_y\n",
        "    loss = (np.sum((y)**2))/(2*N)\n",
        "    training_error.append(loss)\n",
        "\n",
        "    # Backpropagation\n",
        "    delta2 = (y) * grad_sigmoid(y_predicted)\n",
        "    gradient2 = np.dot(Z.T, delta2)\n",
        "\n",
        "    delta1 = np.dot(delta2, w2.T) * grad_sigmoid(Z)\n",
        "    delta1 = delta1[:, :-1]\n",
        "    gradient1 = np.dot(X.T, delta1)\n",
        "\n",
        "    #updating weights\n",
        "    w2 -= (learning_rate/N) * gradient2\n",
        "    w1 -= (learning_rate/N) * gradient1\n",
        "\n",
        "  return training_error\n",
        "\n",
        "\n",
        "training_error = training_neuralnetwork(X, training_y, w1, w2, 0.05, 100)\n",
        "\n",
        "\n",
        "plt.plot(list(range(len(training_error))), training_error, label=\"Training Loss\", color=\"blue\")\n",
        "plt.xlabel(\"Epochs\")\n",
        "plt.ylabel(\"Loss\")\n",
        "plt.title(\"Training Loss Over Epochs\")\n",
        "plt.legend()\n",
        "plt.show()\n",
        "\n"
      ]
    },
    {
      "cell_type": "markdown",
      "metadata": {
        "id": "i4D_cQ2nAycc"
      },
      "source": [
        "## Q2: Classification using the k‐Nearest Neighbors Technique"
      ]
    },
    {
      "cell_type": "markdown",
      "source": [
        "### Importing the dataset\n"
      ],
      "metadata": {
        "id": "f_0gaJkuQLCo"
      }
    },
    {
      "cell_type": "code",
      "execution_count": 7,
      "metadata": {
        "id": "TLCrYsJGA0Zx"
      },
      "outputs": [],
      "source": [
        "url = \"https://archive.ics.uci.edu/ml/machine-learning-databases/abalone/abalone.data\"\n",
        "abalone = pd.read_csv(url, header=None)"
      ]
    },
    {
      "cell_type": "markdown",
      "source": [
        "### Setting appropriate Column names"
      ],
      "metadata": {
        "id": "O-K-Or8gQRKJ"
      }
    },
    {
      "cell_type": "code",
      "execution_count": 8,
      "metadata": {
        "colab": {
          "base_uri": "https://localhost:8080/"
        },
        "id": "dqjD6SqyFAy2",
        "outputId": "f0461d97-1951-4b26-cac5-0a940a25fdb1"
      },
      "outputs": [
        {
          "output_type": "stream",
          "name": "stdout",
          "text": [
            "  Sex  Length  Diameter  Height  Whole weight  Shucked weight  Viscera weight  \\\n",
            "0   M   0.455     0.365   0.095        0.5140          0.2245          0.1010   \n",
            "1   M   0.350     0.265   0.090        0.2255          0.0995          0.0485   \n",
            "2   F   0.530     0.420   0.135        0.6770          0.2565          0.1415   \n",
            "3   M   0.440     0.365   0.125        0.5160          0.2155          0.1140   \n",
            "4   I   0.330     0.255   0.080        0.2050          0.0895          0.0395   \n",
            "\n",
            "   Shell weight  Rings  \n",
            "0         0.150     15  \n",
            "1         0.070      7  \n",
            "2         0.210      9  \n",
            "3         0.155     10  \n",
            "4         0.055      7  \n",
            "(4177, 9)\n"
          ]
        }
      ],
      "source": [
        "abalone.columns = [\"Sex\", \"Length\", \"Diameter\", \"Height\", \"Whole weight\", \"Shucked weight\", \"Viscera weight\", \"Shell weight\", \"Rings\"]\n",
        "print(abalone.head())\n",
        "print(abalone.shape)"
      ]
    },
    {
      "cell_type": "markdown",
      "source": [
        "### Data Processing:\n",
        "* ```X``` are the values in the table except 'Rings' and 'Sex'\n",
        "* ```Y``` is the number of rings(to determine abalone's age)\n",
        "* Splitting data into train and test data sets."
      ],
      "metadata": {
        "id": "TNmMTYmiQbns"
      }
    },
    {
      "cell_type": "code",
      "execution_count": 9,
      "metadata": {
        "id": "1fXOfMO8Fmyt"
      },
      "outputs": [],
      "source": [
        "X = abalone.drop(['Rings', 'Sex'], axis = 1).values\n",
        "y = abalone['Rings'].values\n",
        "X_train, X_test, y_train, y_test = train_test_split(X, y, test_size=0.3, random_state=333)"
      ]
    },
    {
      "cell_type": "markdown",
      "source": [
        "### Implementing K-nearest neighbours:\n",
        "* ```distances``` store the distance of new data point from training data points.\n",
        "* ```nearest_indices``` store the index of smallest k distances.\n",
        "* ```k_rings``` store the respective number of rings corresponding to ```nearest_indices```\n",
        "* ```modes``` is an array of all the modes of the array ```k_rings```.\n",
        "* ```mode``` is one random mode.\n",
        "* ```predicted_results``` is an array which stores the predicted output.\n",
        "* Calculating mse by $$MSE = \\frac{1}{M}∑_{j = 0}^{M-1} (y_{predicted}[j] - y_{actual}[j])^2$$"
      ],
      "metadata": {
        "id": "2zy16KH2QvWv"
      }
    },
    {
      "cell_type": "code",
      "execution_count": 10,
      "metadata": {
        "colab": {
          "base_uri": "https://localhost:8080/"
        },
        "id": "jFYbJkaSg0Tn",
        "outputId": "ea37807e-561d-4fa8-ffc9-edbddbd8a703"
      },
      "outputs": [
        {
          "output_type": "stream",
          "name": "stdout",
          "text": [
            "Mean Squared Error for k =3 : 7.515948963317384\n"
          ]
        }
      ],
      "source": [
        "from statistics import multimode\n",
        "\n",
        "def knn(k, X_train, X_test, y_train, y_test):\n",
        "  predicted_results = []\n",
        "  for i in range(len(X_test)):\n",
        "    distances = np.linalg.norm(X_train - X_test[i], axis=1)\n",
        "    nearest_indices = np.argsort(distances)[:k]\n",
        "    k_rings = y_train[nearest_indices]\n",
        "    modes = multimode(k_rings)\n",
        "    np.random.seed(123)\n",
        "    mode = np.random.choice(modes)\n",
        "    predicted_results.append(mode)\n",
        "\n",
        "  return np.array(predicted_results)\n",
        "\n",
        "def calculate_mse(y_pred, y_test):\n",
        "  mse = np.mean((y_pred - y_test) ** 2)\n",
        "  return mse\n",
        "\n",
        "#mse for k = 3\n",
        "y_pred = knn(3, X_train, X_test, y_train, y_test)\n",
        "mse = calculate_mse(y_pred, y_test)\n",
        "print(\"Mean Squared Error for k =3 :\", mse)"
      ]
    },
    {
      "cell_type": "markdown",
      "source": [
        "### Storing mse values for k =1 to 50 in an array ```mse_values```"
      ],
      "metadata": {
        "id": "zXsSz3NYlydV"
      }
    },
    {
      "cell_type": "code",
      "source": [
        "mse_values = []\n",
        "for i in range(50):\n",
        "  y_pred = knn(i+1, X_train, X_test, y_train, y_test)\n",
        "  mse = calculate_mse(y_pred, y_test)\n",
        "  mse_values.append(mse)"
      ],
      "metadata": {
        "id": "JBwZMXocT4aD"
      },
      "execution_count": 11,
      "outputs": []
    },
    {
      "cell_type": "markdown",
      "source": [
        "### Finding elbow point\n",
        "1. To calculate elbow point we will use the idea that at elbow point curve bends the most.\n",
        "2. The curve bends the most where the second derivative of function is maximum.\n",
        "3. We will approximate, $$f^{'}(x) = f(x+1) - f(x) $$\n",
        "4. By this we will find first and second derivative and then corresponding elbow point."
      ],
      "metadata": {
        "id": "tzjMdjKdl7yK"
      }
    },
    {
      "cell_type": "code",
      "source": [
        "k_values = list(range(1, 51))\n",
        "first_derivative = np.diff(mse_values)\n",
        "second_derivative = np.diff(first_derivative)\n",
        "\n",
        "elbow_k = k_values[np.argmax(second_derivative) + 1]\n",
        "\n",
        "print(f\"Elbow Point: {elbow_k}\")\n",
        "elbow_mse = mse_values[elbow_k - 1]\n",
        "minimum_mse = min(mse_values)\n",
        "optimal_k = k_values[np.argmin(mse_values)]"
      ],
      "metadata": {
        "colab": {
          "base_uri": "https://localhost:8080/"
        },
        "id": "MXAqPdDAYb74",
        "outputId": "2fc670b3-b6ec-4b08-e6c3-faed369eeb1d"
      },
      "execution_count": 25,
      "outputs": [
        {
          "output_type": "stream",
          "name": "stdout",
          "text": [
            "Elbow Point: 3\n"
          ]
        }
      ]
    },
    {
      "cell_type": "markdown",
      "source": [
        "### Plotting using matplotlib"
      ],
      "metadata": {
        "id": "_NR8edF-pnIF"
      }
    },
    {
      "cell_type": "code",
      "source": [
        "plt.figure(figsize=(8, 5))\n",
        "plt.plot(k_values, mse_values, color='blue', linestyle='-', linewidth=2, label=\"MSE\")\n",
        "plt.scatter(elbow_k, elbow_mse, color='red', s=100, zorder=3, label=\"Elbow Point\")\n",
        "plt.scatter(optimal_k, minimum_mse, color='green', s=100, zorder=3, label=\"Optimal k\")\n",
        "plt.annotate(f'Elbow k={elbow_k}', (elbow_k, elbow_mse), textcoords=\"offset points\",\n",
        "             xytext=(-30, -10), ha='center', fontsize=10, color='red')\n",
        "plt.annotate(f'Optimal k={optimal_k}', (optimal_k, minimum_mse), textcoords=\"offset points\",\n",
        "             xytext=(-30, -10), ha='center', fontsize=10, color='green')\n",
        "\n",
        "# Formatting\n",
        "plt.xlabel(\"k\", fontsize=12)\n",
        "plt.ylabel(\"Mean Squared Error (MSE)\", fontsize=12)\n",
        "plt.xticks(fontsize=10)\n",
        "plt.yticks(fontsize=10)\n",
        "plt.xlim(0, 50)\n",
        "plt.ylim(min(mse_values) - 0.2, max(mse_values) + 0.2)\n",
        "plt.legend()\n",
        "plt.show()"
      ],
      "metadata": {
        "colab": {
          "base_uri": "https://localhost:8080/",
          "height": 469
        },
        "id": "_d-4KaWfXjDR",
        "outputId": "3835a199-4215-450b-d3fb-52f40854edbf"
      },
      "execution_count": 26,
      "outputs": [
        {
          "output_type": "display_data",
          "data": {
            "text/plain": [
              "<Figure size 800x500 with 1 Axes>"
            ],
            "image/png": "[encoded data removed]"
          },
          "metadata": {}
        }
      ]
    }
  ],
  "metadata": {
    "colab": {
      "provenance": []
    },
    "kernelspec": {
      "display_name": "Python 3",
      "name": "python3"
    },
    "language_info": {
      "name": "python"
    }
  },
  "nbformat": 4,
  "nbformat_minor": 0
}